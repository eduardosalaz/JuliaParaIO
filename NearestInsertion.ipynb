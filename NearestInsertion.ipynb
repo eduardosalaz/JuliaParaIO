{
 "cells": [
  {
   "cell_type": "markdown",
   "id": "e79f4ae7",
   "metadata": {
    "slideshow": {
     "slide_type": "slide"
    }
   },
   "source": [
    "# Heurística para el TSP: Inserción más cercana"
   ]
  },
  {
   "cell_type": "markdown",
   "id": "e00fe400",
   "metadata": {
    "slideshow": {
     "slide_type": "slide"
    }
   },
   "source": [
    "Tenemos un vector de 8 ciudades $V = \\{1,2,3,4,5,6,7,8\\}$ junto con sus coordenadas con una matriz de distancias."
   ]
  },
  {
   "cell_type": "code",
   "execution_count": 1,
   "id": "ab5d44c1",
   "metadata": {
    "slideshow": {
     "slide_type": "subslide"
    }
   },
   "outputs": [
    {
     "data": {
      "text/plain": [
       "8-element Vector{Int64}:\n",
       " 1\n",
       " 2\n",
       " 3\n",
       " 4\n",
       " 5\n",
       " 6\n",
       " 7\n",
       " 8"
      ]
     },
     "execution_count": 1,
     "metadata": {},
     "output_type": "execute_result"
    }
   ],
   "source": [
    "V = collect(1:8)"
   ]
  },
  {
   "cell_type": "code",
   "execution_count": 2,
   "id": "ebbe363f",
   "metadata": {},
   "outputs": [
    {
     "data": {
      "text/plain": [
       "8×2 Matrix{Int64}:\n",
       " 86  37\n",
       " 17  94\n",
       "  3  65\n",
       " 48  43\n",
       " 78  70\n",
       " 17  55\n",
       " 62  91\n",
       " 78  91"
      ]
     },
     "execution_count": 2,
     "metadata": {},
     "output_type": "execute_result"
    }
   ],
   "source": [
    "using Distances\n",
    "coordinates = \n",
    "[86 37\n",
    "17 94\n",
    "3 65\n",
    "48 43\n",
    "78 70\n",
    "17 55\n",
    "62 91\n",
    "78 91]"
   ]
  },
  {
   "cell_type": "markdown",
   "id": "beaf6d09",
   "metadata": {},
   "source": [
    "En base a las coordenadas, podemos obtener la matriz de distancias $D = d_{i,j}; i, j \\in V$ correspondiente"
   ]
  },
  {
   "cell_type": "code",
   "execution_count": 3,
   "id": "0c9c4b88",
   "metadata": {
    "slideshow": {
     "slide_type": "subslide"
    }
   },
   "outputs": [
    {
     "data": {
      "text/plain": [
       "8×8 Matrix{Int64}:\n",
       "  0  89  87  38  33  71  59  54\n",
       " 89   0  32  59  65  39  45  61\n",
       " 87  32   0  50  75  17  64  79\n",
       " 38  59  50   0  40  33  50  56\n",
       " 33  65  75  40   0  62  26  21\n",
       " 71  39  17  33  62   0  57  70\n",
       " 59  45  64  50  26  57   0  16\n",
       " 54  61  79  56  21  70  16   0"
      ]
     },
     "execution_count": 3,
     "metadata": {},
     "output_type": "execute_result"
    }
   ],
   "source": [
    "distances = pairwise(Euclidean(), coordinates, dims=1)\n",
    "D = trunc.(Int, distances)"
   ]
  },
  {
   "cell_type": "markdown",
   "id": "36ad2ef8",
   "metadata": {
    "slideshow": {
     "slide_type": "slide"
    }
   },
   "source": [
    "Y tenemos un conjunto $T$ que representa nuestra ruta"
   ]
  },
  {
   "cell_type": "code",
   "execution_count": 4,
   "id": "c538d899",
   "metadata": {
    "slideshow": {
     "slide_type": "subslide"
    }
   },
   "outputs": [
    {
     "data": {
      "text/plain": [
       "Int64[]"
      ]
     },
     "execution_count": 4,
     "metadata": {},
     "output_type": "execute_result"
    }
   ],
   "source": [
    "T = Int64[]"
   ]
  },
  {
   "cell_type": "markdown",
   "id": "2f8002fb",
   "metadata": {
    "slideshow": {
     "slide_type": "slide"
    }
   },
   "source": [
    "Todo esto se hace con la idea de minimizar las distancias entre las ciudades, conectándolas una con otra. \n",
    "\n",
    "Para empezar, vamos a elegir la distancia más pequeña disponible en la matriz. Ahora, como soy perezoso, usaré la función `findmin` definida en Julia, pero ésta retornará los elementos cero de la diagonal principal. Así que lo primero que haré es reemplazar todos aquellos con distancias no deseadas. Una aproximación ingenua sería simplemente hacer un `replace` pero esto se ensuciará con otros 0s en la matriz, así que vamos a ceñirnos a la diagonal. También podría usar la stdlib de LinearAlgebra."
   ]
  },
  {
   "cell_type": "code",
   "execution_count": 5,
   "id": "25403065",
   "metadata": {
    "slideshow": {
     "slide_type": "subslide"
    }
   },
   "outputs": [
    {
     "data": {
      "text/plain": [
       "8×8 Matrix{Int64}:\n",
       " 999999      89      87      38      33      71      59      54\n",
       "     89  999999      32      59      65      39      45      61\n",
       "     87      32  999999      50      75      17      64      79\n",
       "     38      59      50  999999      40      33      50      56\n",
       "     33      65      75      40  999999      62      26      21\n",
       "     71      39      17      33      62  999999      57      70\n",
       "     59      45      64      50      26      57  999999      16\n",
       "     54      61      79      56      21      70      16  999999"
      ]
     },
     "execution_count": 5,
     "metadata": {},
     "output_type": "execute_result"
    }
   ],
   "source": [
    "for i ∈ 1:8\n",
    "    D[i, i] = 999999\n",
    "end\n",
    "D"
   ]
  },
  {
   "cell_type": "code",
   "execution_count": 6,
   "id": "2765d96b",
   "metadata": {
    "slideshow": {
     "slide_type": "slide"
    }
   },
   "outputs": [
    {
     "name": "stdout",
     "output_type": "stream",
     "text": [
      "Distancia mínima 16 encontrada entre las ciudades 8 y 7 \n"
     ]
    }
   ],
   "source": [
    "mindis, coords = findmin(D)\n",
    "x = coords[1]\n",
    "y = coords[2]\n",
    "println(\"Distancia mínima $mindis encontrada entre las ciudades $x y $y \")"
   ]
  },
  {
   "cell_type": "markdown",
   "id": "7306b6c8",
   "metadata": {
    "slideshow": {
     "slide_type": "subslide"
    }
   },
   "source": [
    "Añadimos esas ciudades a $T$"
   ]
  },
  {
   "cell_type": "code",
   "execution_count": 7,
   "id": "0de8065e",
   "metadata": {
    "slideshow": {
     "slide_type": "subslide"
    }
   },
   "outputs": [
    {
     "data": {
      "text/plain": [
       "2-element Vector{Int64}:\n",
       " 7\n",
       " 8"
      ]
     },
     "execution_count": 7,
     "metadata": {},
     "output_type": "execute_result"
    }
   ],
   "source": [
    "push!(T, y)\n",
    "push!(T, x)"
   ]
  },
  {
   "cell_type": "markdown",
   "id": "d7cbf689",
   "metadata": {
    "slideshow": {
     "slide_type": "slide"
    }
   },
   "source": [
    "Y creamos un $\\bar{V}$ sin las ciudades que ya trabajamos."
   ]
  },
  {
   "cell_type": "code",
   "execution_count": 8,
   "id": "66361798",
   "metadata": {
    "slideshow": {
     "slide_type": "subslide"
    }
   },
   "outputs": [
    {
     "data": {
      "text/plain": [
       "6-element Vector{Int64}:\n",
       " 1\n",
       " 2\n",
       " 3\n",
       " 4\n",
       " 5\n",
       " 6"
      ]
     },
     "execution_count": 8,
     "metadata": {},
     "output_type": "execute_result"
    }
   ],
   "source": [
    "function remove!(V, item)\n",
    "    deleteat!(V, findall(x->x==item, V))\n",
    "end\n",
    "V̄ = copy(V)\n",
    "remove!(V̄, x)\n",
    "remove!(V̄, y)"
   ]
  },
  {
   "cell_type": "markdown",
   "id": "e46f4f13",
   "metadata": {
    "slideshow": {
     "slide_type": "slide"
    }
   },
   "source": [
    "Defino un struct para guardar datos de las ciudades."
   ]
  },
  {
   "cell_type": "code",
   "execution_count": 9,
   "id": "a83620b9",
   "metadata": {
    "slideshow": {
     "slide_type": "subslide"
    }
   },
   "outputs": [],
   "source": [
    "struct city\n",
    "    distance::Int64\n",
    "    node::Int64\n",
    "end"
   ]
  },
  {
   "cell_type": "markdown",
   "id": "49322d87",
   "metadata": {
    "slideshow": {
     "slide_type": "slide"
    }
   },
   "source": [
    "Así que mientras $\\bar{V}$ no esté vacío iteraremos, añadiendo el nodo más cercano a nuestro recorrido actual y seleccionando el mejor lugar para la inserción. Podemos utilizar muchas métricas para definir el \"nodo más cercano\", ya sea la media o la suma de las distancias o simplemente el valor mínimo. En este caso, utilizaré la suma de todas las distancias del nodo $i$ a $T$"
   ]
  },
  {
   "cell_type": "code",
   "execution_count": 10,
   "id": "1f490687",
   "metadata": {
    "slideshow": {
     "slide_type": "subslide"
    }
   },
   "outputs": [
    {
     "data": {
      "text/plain": [
       "6-element Vector{city}:\n",
       " city(113, 1)\n",
       " city(106, 2)\n",
       " city(143, 3)\n",
       " city(106, 4)\n",
       " city(47, 5)\n",
       " city(127, 6)"
      ]
     },
     "execution_count": 10,
     "metadata": {},
     "output_type": "execute_result"
    }
   ],
   "source": [
    "cities = city[]\n",
    "for i in V̄\n",
    "    dist = 0\n",
    "    for j in T\n",
    "        dist = dist + D[i,j]\n",
    "    end\n",
    "    cityDistance = city(dist, i)\n",
    "    push!(cities, cityDistance)\n",
    "end\n",
    "cities"
   ]
  },
  {
   "cell_type": "markdown",
   "id": "737e5d0e",
   "metadata": {
    "slideshow": {
     "slide_type": "slide"
    }
   },
   "source": [
    "Ahora que conocemos todas nuestras distancias, vamos a elegir la más pequeña disponible y a obtener el nodo que está representado por dicha distancia a $T$. Para ello, utilizaré el multiple dispatch del operador < con nuestro nuevo tipo."
   ]
  },
  {
   "cell_type": "code",
   "execution_count": 11,
   "id": "ba42d1aa",
   "metadata": {
    "slideshow": {
     "slide_type": "subslide"
    }
   },
   "outputs": [
    {
     "name": "stdout",
     "output_type": "stream",
     "text": [
      "Distancia mínima a T: 47 desde la ciudad 5\n"
     ]
    }
   ],
   "source": [
    "import Base: isless\n",
    "isless(c1::city, c2::city) = c1.distance < c2.distance\n",
    "optimum = findmin(cities) \n",
    "# usa el multiple dispatch definido anteriormente\n",
    "mindis = optimum[1].distance \n",
    "# Por qué [1]? porque findmin retorna la tupla de la CIUDAD y el índice en el arreglo\n",
    "# conforme avance el algoritmo, el índice del arreglo y el nodo van a cambiar, por eso lo guardamos en el struct\n",
    "î = optimum[1].node\n",
    "println(\"Distancia mínima a T: $mindis desde la ciudad $î\")"
   ]
  },
  {
   "cell_type": "markdown",
   "id": "9a9544c6",
   "metadata": {
    "slideshow": {
     "slide_type": "slide"
    }
   },
   "source": [
    "La función para determinar cuál es el mejor lugar para insertar el nodo es:\n",
    "\n",
    "$\\Phi(i\\star, q) = D_{q, i\\star} + D_{i\\star,q+1} - D_{q,q+1}$\n",
    "\n",
    "$\\forall q\\in 1...|T|$"
   ]
  },
  {
   "cell_type": "code",
   "execution_count": 12,
   "id": "bf7a9719",
   "metadata": {
    "slideshow": {
     "slide_type": "subslide"
    }
   },
   "outputs": [
    {
     "name": "stdout",
     "output_type": "stream",
     "text": [
      "Insertando después de la ciudad 7 con un peso de 31\n"
     ]
    }
   ],
   "source": [
    "inserciones = Tuple[]\n",
    "for q in 1:length(T)\n",
    "    if q ≠ length(T)\n",
    "        distancias = D[T[q], î] + D[î,T[q+1]] - D[T[q], T[q+1]]\n",
    "        insert = tuple(T[q], distancias)\n",
    "        push!(inserciones, insert)\n",
    "    else # el caso en el que ya estemos en el último nodo de T, para que no haga overflow\n",
    "        distancias = D[T[q], î] + D[î,T[q-1]] - D[T[q], T[q-1]]\n",
    "        insert = tuple(T[q], distancias)\n",
    "        push!(inserciones, insert)\n",
    "    end\n",
    "end\n",
    "Σq = [q[2] for q in inserciones] \n",
    "# el campo [1] representa el nodo de la insercion, [2] el valor.\n",
    "mindis, index = findmin(Σq)\n",
    "optCity = inserciones[index][1] \n",
    "# como es un arreglo de tuples, accedemos al nodo contenido con el [1]\n",
    "println(\"Insertando después de la ciudad $optCity con un peso de $mindis\")"
   ]
  },
  {
   "cell_type": "markdown",
   "id": "ace14df0",
   "metadata": {
    "slideshow": {
     "slide_type": "subslide"
    }
   },
   "source": [
    "En este caso, hacemos la inserción de manera arbitraria."
   ]
  },
  {
   "cell_type": "code",
   "execution_count": 13,
   "id": "8566d0d3",
   "metadata": {
    "slideshow": {
     "slide_type": "subslide"
    }
   },
   "outputs": [
    {
     "name": "stdout",
     "output_type": "stream",
     "text": [
      "T actual: [7, 5, 8]\n"
     ]
    }
   ],
   "source": [
    "optCityIdx = findfirst(x->x==optCity, T)\n",
    "insert!(T, optCityIdx+1, î)\n",
    "remove!(V̄, î)\n",
    "println(\"T actual: $T\")"
   ]
  },
  {
   "cell_type": "markdown",
   "id": "9b2c5278",
   "metadata": {
    "slideshow": {
     "slide_type": "slide"
    }
   },
   "source": [
    "Vamos a crear un ciclo para iterar $\\bar{V}$"
   ]
  },
  {
   "cell_type": "code",
   "execution_count": 14,
   "id": "f22cc7ab",
   "metadata": {
    "slideshow": {
     "slide_type": "subslide"
    }
   },
   "outputs": [
    {
     "name": "stdout",
     "output_type": "stream",
     "text": [
      "Distancia mínima a T: 146 desde la ciudad 1\n",
      "Insertando después de la ciudad 7 con un peso de 66\n",
      "T actual: [7, 1, 5, 8]\n",
      "Distancia mínima a T: 184 desde la ciudad 4\n",
      "Insertando después de la ciudad 7 con un peso de 29\n",
      "T actual: [7, 4, 1, 5, 8]\n",
      "Distancia mínima a T: 293 desde la ciudad 6\n",
      "Insertando después de la ciudad 7 con un peso de 40\n",
      "T actual: [7, 6, 4, 1, 5, 8]\n",
      "Distancia mínima a T: 358 desde la ciudad 2\n",
      "Insertando después de la ciudad 7 con un peso de 27\n",
      "T actual: [7, 2, 6, 4, 1, 5, 8]\n",
      "Distancia mínima a T: 404 desde la ciudad 3\n",
      "Insertando después de la ciudad 2 con un peso de 10\n",
      "T actual: [7, 2, 3, 6, 4, 1, 5, 8]\n"
     ]
    }
   ],
   "source": [
    "while !isempty(V̄)\n",
    "    cities = city[]\n",
    "    for i in V̄\n",
    "        dist = 0\n",
    "        for j in T\n",
    "            dist = dist + D[i,j]\n",
    "        end\n",
    "        cityDis = city(dist, i)\n",
    "        push!(cities, cityDis)\n",
    "    end\n",
    "    optimum = findmin(cities)\n",
    "    mindis = optimum[1].distance \n",
    "    î = optimum[1].node\n",
    "    println(\"Distancia mínima a T: $mindis desde la ciudad $î\")\n",
    "    inserciones = Tuple[]\n",
    "    for q in 1:length(T)\n",
    "        if q ≠ length(T)\n",
    "            distancias = D[T[q], î] + D[î,T[q+1]] - D[T[q], T[q+1]]\n",
    "            insert = tuple(T[q], distancias)\n",
    "            push!(inserciones, insert)\n",
    "        else\n",
    "            distancias = D[T[q], î] + D[î,T[q-1]] - D[T[q], T[q-1]]\n",
    "            insert = tuple(T[q], distancias)\n",
    "            push!(inserciones, insert)\n",
    "        end\n",
    "    end\n",
    "    Σq = [q[2] for q in inserciones]\n",
    "    mindis, index = findmin(Σq)\n",
    "    optCity = inserciones[index][1]\n",
    "    println(\"Insertando después de la ciudad $optCity con un peso de $mindis\")\n",
    "    optCityIdx = findfirst(x->x==optCity, T)\n",
    "    insert!(T, optCityIdx+1, î)\n",
    "    remove!(V̄, î)\n",
    "    println(\"T actual: $T\")\n",
    "end"
   ]
  },
  {
   "cell_type": "code",
   "execution_count": 15,
   "id": "c78aae3f",
   "metadata": {},
   "outputs": [
    {
     "name": "stdout",
     "output_type": "stream",
     "text": [
      "FIN DE LA HEURISTICA\n",
      "T final: [7, 2, 3, 6, 4, 1, 5, 8]\n",
      "Peso total W: 235\n"
     ]
    }
   ],
   "source": [
    "println(\"FIN DE LA HEURISTICA\")\n",
    "W = 0\n",
    "for i in 1:length(T)-1\n",
    "    W = D[T[i], T[i+1]] + W\n",
    "end\n",
    "W = W + D[last(T), first(T)]\n",
    "println(\"T final: $T\")\n",
    "println(\"Peso total W: $W\")"
   ]
  },
  {
   "cell_type": "markdown",
   "id": "f6192d08",
   "metadata": {
    "slideshow": {
     "slide_type": "slide"
    }
   },
   "source": [
    "Por último, vamos a graficar los resultados."
   ]
  },
  {
   "cell_type": "code",
   "execution_count": 16,
   "id": "e54015eb",
   "metadata": {
    "slideshow": {
     "slide_type": "subslide"
    }
   },
   "outputs": [
    {
     "name": "stderr",
     "output_type": "stream",
     "text": [
      "WARNING: using Plots.coords in module Main conflicts with an existing identifier.\n"
     ]
    },
    {
     "data": {
      "image/svg+xml": [
       "<?xml version=\"1.0\" encoding=\"utf-8\"?>\n",
       "<svg xmlns=\"http://www.w3.org/2000/svg\" xmlns:xlink=\"http://www.w3.org/1999/xlink\" width=\"600\" height=\"400\" viewBox=\"0 0 2400 1600\">\n",
       "<defs>\n",
       "  <clipPath id=\"clip250\">\n",
       "    <rect x=\"0\" y=\"0\" width=\"2400\" height=\"1600\"/>\n",
       "  </clipPath>\n",
       "</defs>\n",
       "<path clip-path=\"url(#clip250)\" d=\"\n",
       "M0 1600 L2400 1600 L2400 0 L0 0  Z\n",
       "  \" fill=\"#ffffff\" fill-rule=\"evenodd\" fill-opacity=\"1\"/>\n",
       "<defs>\n",
       "  <clipPath id=\"clip251\">\n",
       "    <rect x=\"480\" y=\"0\" width=\"1681\" height=\"1600\"/>\n",
       "  </clipPath>\n",
       "</defs>\n",
       "<path clip-path=\"url(#clip250)\" d=\"\n",
       "M141.853 1486.45 L2352.76 1486.45 L2352.76 123.472 L141.853 123.472  Z\n",
       "  \" fill=\"#ffffff\" fill-rule=\"evenodd\" fill-opacity=\"1\"/>\n",
       "<defs>\n",
       "  <clipPath id=\"clip252\">\n",
       "    <rect x=\"141\" y=\"123\" width=\"2212\" height=\"1364\"/>\n",
       "  </clipPath>\n",
       "</defs>\n",
       "<polyline clip-path=\"url(#clip252)\" style=\"stroke:#000000; stroke-linecap:butt; stroke-linejoin:round; stroke-width:2; stroke-opacity:0.1; fill:none\" points=\"\n",
       "  631.629,1486.45 631.629,123.472 \n",
       "  \"/>\n",
       "<polyline clip-path=\"url(#clip252)\" style=\"stroke:#000000; stroke-linecap:butt; stroke-linejoin:round; stroke-width:2; stroke-opacity:0.1; fill:none\" points=\"\n",
       "  1134.22,1486.45 1134.22,123.472 \n",
       "  \"/>\n",
       "<polyline clip-path=\"url(#clip252)\" style=\"stroke:#000000; stroke-linecap:butt; stroke-linejoin:round; stroke-width:2; stroke-opacity:0.1; fill:none\" points=\"\n",
       "  1636.81,1486.45 1636.81,123.472 \n",
       "  \"/>\n",
       "<polyline clip-path=\"url(#clip252)\" style=\"stroke:#000000; stroke-linecap:butt; stroke-linejoin:round; stroke-width:2; stroke-opacity:0.1; fill:none\" points=\"\n",
       "  2139.41,1486.45 2139.41,123.472 \n",
       "  \"/>\n",
       "<polyline clip-path=\"url(#clip250)\" style=\"stroke:#000000; stroke-linecap:butt; stroke-linejoin:round; stroke-width:4; stroke-opacity:1; fill:none\" points=\"\n",
       "  141.853,1486.45 2352.76,1486.45 \n",
       "  \"/>\n",
       "<polyline clip-path=\"url(#clip250)\" style=\"stroke:#000000; stroke-linecap:butt; stroke-linejoin:round; stroke-width:4; stroke-opacity:1; fill:none\" points=\"\n",
       "  631.629,1486.45 631.629,1467.55 \n",
       "  \"/>\n",
       "<polyline clip-path=\"url(#clip250)\" style=\"stroke:#000000; stroke-linecap:butt; stroke-linejoin:round; stroke-width:4; stroke-opacity:1; fill:none\" points=\"\n",
       "  1134.22,1486.45 1134.22,1467.55 \n",
       "  \"/>\n",
       "<polyline clip-path=\"url(#clip250)\" style=\"stroke:#000000; stroke-linecap:butt; stroke-linejoin:round; stroke-width:4; stroke-opacity:1; fill:none\" points=\"\n",
       "  1636.81,1486.45 1636.81,1467.55 \n",
       "  \"/>\n",
       "<polyline clip-path=\"url(#clip250)\" style=\"stroke:#000000; stroke-linecap:butt; stroke-linejoin:round; stroke-width:4; stroke-opacity:1; fill:none\" points=\"\n",
       "  2139.41,1486.45 2139.41,1467.55 \n",
       "  \"/>\n",
       "<path clip-path=\"url(#clip250)\" d=\"M610.402 1543.18 L626.722 1543.18 L626.722 1547.12 L604.777 1547.12 L604.777 1543.18 Q607.439 1540.43 612.023 1535.8 Q616.629 1531.15 617.81 1529.81 Q620.055 1527.28 620.935 1525.55 Q621.837 1523.79 621.837 1522.1 Q621.837 1519.34 619.893 1517.61 Q617.972 1515.87 614.87 1515.87 Q612.671 1515.87 610.217 1516.63 Q607.787 1517.4 605.009 1518.95 L605.009 1514.23 Q607.833 1513.09 610.287 1512.51 Q612.74 1511.93 614.777 1511.93 Q620.148 1511.93 623.342 1514.62 Q626.536 1517.31 626.536 1521.8 Q626.536 1523.93 625.726 1525.85 Q624.939 1527.74 622.833 1530.34 Q622.254 1531.01 619.152 1534.23 Q616.05 1537.42 610.402 1543.18 Z\" fill=\"#000000\" fill-rule=\"evenodd\" fill-opacity=\"1\" /><path clip-path=\"url(#clip250)\" d=\"M646.536 1515.64 Q642.925 1515.64 641.097 1519.2 Q639.291 1522.75 639.291 1529.87 Q639.291 1536.98 641.097 1540.55 Q642.925 1544.09 646.536 1544.09 Q650.171 1544.09 651.976 1540.55 Q653.805 1536.98 653.805 1529.87 Q653.805 1522.75 651.976 1519.2 Q650.171 1515.64 646.536 1515.64 M646.536 1511.93 Q652.346 1511.93 655.402 1516.54 Q658.481 1521.12 658.481 1529.87 Q658.481 1538.6 655.402 1543.21 Q652.346 1547.79 646.536 1547.79 Q640.726 1547.79 637.648 1543.21 Q634.592 1538.6 634.592 1529.87 Q634.592 1521.12 637.648 1516.54 Q640.726 1511.93 646.536 1511.93 Z\" fill=\"#000000\" fill-rule=\"evenodd\" fill-opacity=\"1\" /><path clip-path=\"url(#clip250)\" d=\"M1122.39 1516.63 L1110.59 1535.08 L1122.39 1535.08 L1122.39 1516.63 M1121.17 1512.56 L1127.05 1512.56 L1127.05 1535.08 L1131.98 1535.08 L1131.98 1538.97 L1127.05 1538.97 L1127.05 1547.12 L1122.39 1547.12 L1122.39 1538.97 L1106.79 1538.97 L1106.79 1534.46 L1121.17 1512.56 Z\" fill=\"#000000\" fill-rule=\"evenodd\" fill-opacity=\"1\" /><path clip-path=\"url(#clip250)\" d=\"M1149.71 1515.64 Q1146.1 1515.64 1144.27 1519.2 Q1142.46 1522.75 1142.46 1529.87 Q1142.46 1536.98 1144.27 1540.55 Q1146.1 1544.09 1149.71 1544.09 Q1153.34 1544.09 1155.15 1540.55 Q1156.98 1536.98 1156.98 1529.87 Q1156.98 1522.75 1155.15 1519.2 Q1153.34 1515.64 1149.71 1515.64 M1149.71 1511.93 Q1155.52 1511.93 1158.57 1516.54 Q1161.65 1521.12 1161.65 1529.87 Q1161.65 1538.6 1158.57 1543.21 Q1155.52 1547.79 1149.71 1547.79 Q1143.9 1547.79 1140.82 1543.21 Q1137.76 1538.6 1137.76 1529.87 Q1137.76 1521.12 1140.82 1516.54 Q1143.9 1511.93 1149.71 1511.93 Z\" fill=\"#000000\" fill-rule=\"evenodd\" fill-opacity=\"1\" /><path clip-path=\"url(#clip250)\" d=\"M1622.22 1527.98 Q1619.07 1527.98 1617.22 1530.13 Q1615.39 1532.28 1615.39 1536.03 Q1615.39 1539.76 1617.22 1541.93 Q1619.07 1544.09 1622.22 1544.09 Q1625.37 1544.09 1627.2 1541.93 Q1629.05 1539.76 1629.05 1536.03 Q1629.05 1532.28 1627.2 1530.13 Q1625.37 1527.98 1622.22 1527.98 M1631.5 1513.32 L1631.5 1517.58 Q1629.74 1516.75 1627.94 1516.31 Q1626.15 1515.87 1624.39 1515.87 Q1619.76 1515.87 1617.31 1519 Q1614.88 1522.12 1614.53 1528.44 Q1615.9 1526.43 1617.96 1525.36 Q1620.02 1524.27 1622.5 1524.27 Q1627.7 1524.27 1630.71 1527.44 Q1633.75 1530.59 1633.75 1536.03 Q1633.75 1541.36 1630.6 1544.57 Q1627.45 1547.79 1622.22 1547.79 Q1616.22 1547.79 1613.05 1543.21 Q1609.88 1538.6 1609.88 1529.87 Q1609.88 1521.68 1613.77 1516.82 Q1617.66 1511.93 1624.21 1511.93 Q1625.97 1511.93 1627.75 1512.28 Q1629.56 1512.63 1631.5 1513.32 Z\" fill=\"#000000\" fill-rule=\"evenodd\" fill-opacity=\"1\" /><path clip-path=\"url(#clip250)\" d=\"M1651.8 1515.64 Q1648.19 1515.64 1646.36 1519.2 Q1644.56 1522.75 1644.56 1529.87 Q1644.56 1536.98 1646.36 1540.55 Q1648.19 1544.09 1651.8 1544.09 Q1655.44 1544.09 1657.24 1540.55 Q1659.07 1536.98 1659.07 1529.87 Q1659.07 1522.75 1657.24 1519.2 Q1655.44 1515.64 1651.8 1515.64 M1651.8 1511.93 Q1657.61 1511.93 1660.67 1516.54 Q1663.75 1521.12 1663.75 1529.87 Q1663.75 1538.6 1660.67 1543.21 Q1657.61 1547.79 1651.8 1547.79 Q1645.99 1547.79 1642.91 1543.21 Q1639.86 1538.6 1639.86 1529.87 Q1639.86 1521.12 1642.91 1516.54 Q1645.99 1511.93 1651.8 1511.93 Z\" fill=\"#000000\" fill-rule=\"evenodd\" fill-opacity=\"1\" /><path clip-path=\"url(#clip250)\" d=\"M2124.28 1530.71 Q2120.94 1530.71 2119.02 1532.49 Q2117.13 1534.27 2117.13 1537.4 Q2117.13 1540.52 2119.02 1542.31 Q2120.94 1544.09 2124.28 1544.09 Q2127.61 1544.09 2129.53 1542.31 Q2131.45 1540.5 2131.45 1537.4 Q2131.45 1534.27 2129.53 1532.49 Q2127.63 1530.71 2124.28 1530.71 M2119.6 1528.72 Q2116.59 1527.98 2114.9 1525.92 Q2113.24 1523.86 2113.24 1520.89 Q2113.24 1516.75 2116.18 1514.34 Q2119.14 1511.93 2124.28 1511.93 Q2129.44 1511.93 2132.38 1514.34 Q2135.32 1516.75 2135.32 1520.89 Q2135.32 1523.86 2133.63 1525.92 Q2131.96 1527.98 2128.98 1528.72 Q2132.36 1529.5 2134.23 1531.8 Q2136.13 1534.09 2136.13 1537.4 Q2136.13 1542.42 2133.05 1545.11 Q2130 1547.79 2124.28 1547.79 Q2118.56 1547.79 2115.48 1545.11 Q2112.43 1542.42 2112.43 1537.4 Q2112.43 1534.09 2114.32 1531.8 Q2116.22 1529.5 2119.6 1528.72 M2117.89 1521.33 Q2117.89 1524.02 2119.56 1525.52 Q2121.25 1527.03 2124.28 1527.03 Q2127.29 1527.03 2128.98 1525.52 Q2130.69 1524.02 2130.69 1521.33 Q2130.69 1518.65 2128.98 1517.14 Q2127.29 1515.64 2124.28 1515.64 Q2121.25 1515.64 2119.56 1517.14 Q2117.89 1518.65 2117.89 1521.33 Z\" fill=\"#000000\" fill-rule=\"evenodd\" fill-opacity=\"1\" /><path clip-path=\"url(#clip250)\" d=\"M2154.44 1515.64 Q2150.83 1515.64 2149 1519.2 Q2147.19 1522.75 2147.19 1529.87 Q2147.19 1536.98 2149 1540.55 Q2150.83 1544.09 2154.44 1544.09 Q2158.07 1544.09 2159.88 1540.55 Q2161.71 1536.98 2161.71 1529.87 Q2161.71 1522.75 2159.88 1519.2 Q2158.07 1515.64 2154.44 1515.64 M2154.44 1511.93 Q2160.25 1511.93 2163.31 1516.54 Q2166.38 1521.12 2166.38 1529.87 Q2166.38 1538.6 2163.31 1543.21 Q2160.25 1547.79 2154.44 1547.79 Q2148.63 1547.79 2145.55 1543.21 Q2142.5 1538.6 2142.5 1529.87 Q2142.5 1521.12 2145.55 1516.54 Q2148.63 1511.93 2154.44 1511.93 Z\" fill=\"#000000\" fill-rule=\"evenodd\" fill-opacity=\"1\" /><polyline clip-path=\"url(#clip252)\" style=\"stroke:#000000; stroke-linecap:butt; stroke-linejoin:round; stroke-width:2; stroke-opacity:0.1; fill:none\" points=\"\n",
       "  141.853,1380.2 2352.76,1380.2 \n",
       "  \"/>\n",
       "<polyline clip-path=\"url(#clip252)\" style=\"stroke:#000000; stroke-linecap:butt; stroke-linejoin:round; stroke-width:2; stroke-opacity:0.1; fill:none\" points=\"\n",
       "  141.853,1154.61 2352.76,1154.61 \n",
       "  \"/>\n",
       "<polyline clip-path=\"url(#clip252)\" style=\"stroke:#000000; stroke-linecap:butt; stroke-linejoin:round; stroke-width:2; stroke-opacity:0.1; fill:none\" points=\"\n",
       "  141.853,929.031 2352.76,929.031 \n",
       "  \"/>\n",
       "<polyline clip-path=\"url(#clip252)\" style=\"stroke:#000000; stroke-linecap:butt; stroke-linejoin:round; stroke-width:2; stroke-opacity:0.1; fill:none\" points=\"\n",
       "  141.853,703.447 2352.76,703.447 \n",
       "  \"/>\n",
       "<polyline clip-path=\"url(#clip252)\" style=\"stroke:#000000; stroke-linecap:butt; stroke-linejoin:round; stroke-width:2; stroke-opacity:0.1; fill:none\" points=\"\n",
       "  141.853,477.864 2352.76,477.864 \n",
       "  \"/>\n",
       "<polyline clip-path=\"url(#clip252)\" style=\"stroke:#000000; stroke-linecap:butt; stroke-linejoin:round; stroke-width:2; stroke-opacity:0.1; fill:none\" points=\"\n",
       "  141.853,252.28 2352.76,252.28 \n",
       "  \"/>\n",
       "<polyline clip-path=\"url(#clip250)\" style=\"stroke:#000000; stroke-linecap:butt; stroke-linejoin:round; stroke-width:4; stroke-opacity:1; fill:none\" points=\"\n",
       "  141.853,1486.45 141.853,123.472 \n",
       "  \"/>\n",
       "<polyline clip-path=\"url(#clip250)\" style=\"stroke:#000000; stroke-linecap:butt; stroke-linejoin:round; stroke-width:4; stroke-opacity:1; fill:none\" points=\"\n",
       "  141.853,1380.2 160.751,1380.2 \n",
       "  \"/>\n",
       "<polyline clip-path=\"url(#clip250)\" style=\"stroke:#000000; stroke-linecap:butt; stroke-linejoin:round; stroke-width:4; stroke-opacity:1; fill:none\" points=\"\n",
       "  141.853,1154.61 160.751,1154.61 \n",
       "  \"/>\n",
       "<polyline clip-path=\"url(#clip250)\" style=\"stroke:#000000; stroke-linecap:butt; stroke-linejoin:round; stroke-width:4; stroke-opacity:1; fill:none\" points=\"\n",
       "  141.853,929.031 160.751,929.031 \n",
       "  \"/>\n",
       "<polyline clip-path=\"url(#clip250)\" style=\"stroke:#000000; stroke-linecap:butt; stroke-linejoin:round; stroke-width:4; stroke-opacity:1; fill:none\" points=\"\n",
       "  141.853,703.447 160.751,703.447 \n",
       "  \"/>\n",
       "<polyline clip-path=\"url(#clip250)\" style=\"stroke:#000000; stroke-linecap:butt; stroke-linejoin:round; stroke-width:4; stroke-opacity:1; fill:none\" points=\"\n",
       "  141.853,477.864 160.751,477.864 \n",
       "  \"/>\n",
       "<polyline clip-path=\"url(#clip250)\" style=\"stroke:#000000; stroke-linecap:butt; stroke-linejoin:round; stroke-width:4; stroke-opacity:1; fill:none\" points=\"\n",
       "  141.853,252.28 160.751,252.28 \n",
       "  \"/>\n",
       "<path clip-path=\"url(#clip250)\" d=\"M66.5939 1366.99 L54.7884 1385.44 L66.5939 1385.44 L66.5939 1366.99 M65.367 1362.92 L71.2466 1362.92 L71.2466 1385.44 L76.1772 1385.44 L76.1772 1389.33 L71.2466 1389.33 L71.2466 1397.48 L66.5939 1397.48 L66.5939 1389.33 L50.9921 1389.33 L50.9921 1384.82 L65.367 1362.92 Z\" fill=\"#000000\" fill-rule=\"evenodd\" fill-opacity=\"1\" /><path clip-path=\"url(#clip250)\" d=\"M93.9086 1366 Q90.2975 1366 88.4688 1369.56 Q86.6632 1373.1 86.6632 1380.23 Q86.6632 1387.34 88.4688 1390.9 Q90.2975 1394.45 93.9086 1394.45 Q97.5428 1394.45 99.3483 1390.9 Q101.177 1387.34 101.177 1380.23 Q101.177 1373.1 99.3483 1369.56 Q97.5428 1366 93.9086 1366 M93.9086 1362.29 Q99.7187 1362.29 102.774 1366.9 Q105.853 1371.48 105.853 1380.23 Q105.853 1388.96 102.774 1393.57 Q99.7187 1398.15 93.9086 1398.15 Q88.0984 1398.15 85.0197 1393.57 Q81.9642 1388.96 81.9642 1380.23 Q81.9642 1371.48 85.0197 1366.9 Q88.0984 1362.29 93.9086 1362.29 Z\" fill=\"#000000\" fill-rule=\"evenodd\" fill-opacity=\"1\" /><path clip-path=\"url(#clip250)\" d=\"M53.793 1137.33 L72.1494 1137.33 L72.1494 1141.27 L58.0754 1141.27 L58.0754 1149.74 Q59.0939 1149.39 60.1124 1149.23 Q61.131 1149.05 62.1495 1149.05 Q67.9365 1149.05 71.3161 1152.22 Q74.6957 1155.39 74.6957 1160.81 Q74.6957 1166.39 71.2235 1169.49 Q67.7513 1172.57 61.4319 1172.57 Q59.256 1172.57 56.9875 1172.2 Q54.7421 1171.83 52.3347 1171.08 L52.3347 1166.39 Q54.418 1167.52 56.6402 1168.08 Q58.8625 1168.63 61.3393 1168.63 Q65.3439 1168.63 67.6819 1166.52 Q70.0198 1164.42 70.0198 1160.81 Q70.0198 1157.2 67.6819 1155.09 Q65.3439 1152.98 61.3393 1152.98 Q59.4643 1152.98 57.5893 1153.4 Q55.7375 1153.82 53.793 1154.7 L53.793 1137.33 Z\" fill=\"#000000\" fill-rule=\"evenodd\" fill-opacity=\"1\" /><path clip-path=\"url(#clip250)\" d=\"M93.9086 1140.41 Q90.2975 1140.41 88.4688 1143.98 Q86.6632 1147.52 86.6632 1154.65 Q86.6632 1161.76 88.4688 1165.32 Q90.2975 1168.86 93.9086 1168.86 Q97.5428 1168.86 99.3483 1165.32 Q101.177 1161.76 101.177 1154.65 Q101.177 1147.52 99.3483 1143.98 Q97.5428 1140.41 93.9086 1140.41 M93.9086 1136.71 Q99.7187 1136.71 102.774 1141.32 Q105.853 1145.9 105.853 1154.65 Q105.853 1163.38 102.774 1167.98 Q99.7187 1172.57 93.9086 1172.57 Q88.0984 1172.57 85.0197 1167.98 Q81.9642 1163.38 81.9642 1154.65 Q81.9642 1145.9 85.0197 1141.32 Q88.0984 1136.71 93.9086 1136.71 Z\" fill=\"#000000\" fill-rule=\"evenodd\" fill-opacity=\"1\" /><path clip-path=\"url(#clip250)\" d=\"M64.3254 927.168 Q61.1773 927.168 59.3254 929.32 Q57.4967 931.473 57.4967 935.223 Q57.4967 938.95 59.3254 941.126 Q61.1773 943.279 64.3254 943.279 Q67.4735 943.279 69.3022 941.126 Q71.1541 938.95 71.1541 935.223 Q71.1541 931.473 69.3022 929.32 Q67.4735 927.168 64.3254 927.168 M73.6077 912.515 L73.6077 916.774 Q71.8485 915.941 70.0429 915.501 Q68.2606 915.061 66.5013 915.061 Q61.8717 915.061 59.418 918.186 Q56.9875 921.311 56.6402 927.63 Q58.006 925.617 60.0662 924.552 Q62.1263 923.464 64.6032 923.464 Q69.8115 923.464 72.8207 926.635 Q75.8531 929.783 75.8531 935.223 Q75.8531 940.547 72.705 943.765 Q69.5568 946.982 64.3254 946.982 Q58.33 946.982 55.1588 942.399 Q51.9875 937.792 51.9875 929.066 Q51.9875 920.871 55.8764 916.01 Q59.7652 911.126 66.3161 911.126 Q68.0754 911.126 69.8578 911.473 Q71.6633 911.82 73.6077 912.515 Z\" fill=\"#000000\" fill-rule=\"evenodd\" fill-opacity=\"1\" /><path clip-path=\"url(#clip250)\" d=\"M93.9086 914.83 Q90.2975 914.83 88.4688 918.394 Q86.6632 921.936 86.6632 929.066 Q86.6632 936.172 88.4688 939.737 Q90.2975 943.279 93.9086 943.279 Q97.5428 943.279 99.3483 939.737 Q101.177 936.172 101.177 929.066 Q101.177 921.936 99.3483 918.394 Q97.5428 914.83 93.9086 914.83 M93.9086 911.126 Q99.7187 911.126 102.774 915.732 Q105.853 920.316 105.853 929.066 Q105.853 937.792 102.774 942.399 Q99.7187 946.982 93.9086 946.982 Q88.0984 946.982 85.0197 942.399 Q81.9642 937.792 81.9642 929.066 Q81.9642 920.316 85.0197 915.732 Q88.0984 911.126 93.9086 911.126 Z\" fill=\"#000000\" fill-rule=\"evenodd\" fill-opacity=\"1\" /><path clip-path=\"url(#clip250)\" d=\"M52.5662 686.167 L74.7883 686.167 L74.7883 688.158 L62.2421 720.727 L57.3578 720.727 L69.1633 690.103 L52.5662 690.103 L52.5662 686.167 Z\" fill=\"#000000\" fill-rule=\"evenodd\" fill-opacity=\"1\" /><path clip-path=\"url(#clip250)\" d=\"M93.9086 689.246 Q90.2975 689.246 88.4688 692.811 Q86.6632 696.353 86.6632 703.482 Q86.6632 710.589 88.4688 714.153 Q90.2975 717.695 93.9086 717.695 Q97.5428 717.695 99.3483 714.153 Q101.177 710.589 101.177 703.482 Q101.177 696.353 99.3483 692.811 Q97.5428 689.246 93.9086 689.246 M93.9086 685.542 Q99.7187 685.542 102.774 690.149 Q105.853 694.732 105.853 703.482 Q105.853 712.209 102.774 716.815 Q99.7187 721.399 93.9086 721.399 Q88.0984 721.399 85.0197 716.815 Q81.9642 712.209 81.9642 703.482 Q81.9642 694.732 85.0197 690.149 Q88.0984 685.542 93.9086 685.542 Z\" fill=\"#000000\" fill-rule=\"evenodd\" fill-opacity=\"1\" /><path clip-path=\"url(#clip250)\" d=\"M63.7467 478.732 Q60.4134 478.732 58.4921 480.514 Q56.5939 482.297 56.5939 485.422 Q56.5939 488.547 58.4921 490.329 Q60.4134 492.111 63.7467 492.111 Q67.08 492.111 69.0013 490.329 Q70.9226 488.524 70.9226 485.422 Q70.9226 482.297 69.0013 480.514 Q67.1032 478.732 63.7467 478.732 M59.0708 476.741 Q56.0615 476 54.3717 473.94 Q52.7051 471.88 52.7051 468.917 Q52.7051 464.774 55.6449 462.366 Q58.6078 459.959 63.7467 459.959 Q68.9087 459.959 71.8485 462.366 Q74.7883 464.774 74.7883 468.917 Q74.7883 471.88 73.0985 473.94 Q71.4318 476 68.4457 476.741 Q71.8253 477.528 73.7003 479.82 Q75.5985 482.112 75.5985 485.422 Q75.5985 490.445 72.5198 493.13 Q69.4642 495.815 63.7467 495.815 Q58.0291 495.815 54.9504 493.13 Q51.8949 490.445 51.8949 485.422 Q51.8949 482.112 53.793 479.82 Q55.6912 477.528 59.0708 476.741 M57.3578 469.357 Q57.3578 472.042 59.0245 473.547 Q60.7143 475.051 63.7467 475.051 Q66.7559 475.051 68.4457 473.547 Q70.1587 472.042 70.1587 469.357 Q70.1587 466.672 68.4457 465.167 Q66.7559 463.663 63.7467 463.663 Q60.7143 463.663 59.0245 465.167 Q57.3578 466.672 57.3578 469.357 Z\" fill=\"#000000\" fill-rule=\"evenodd\" fill-opacity=\"1\" /><path clip-path=\"url(#clip250)\" d=\"M93.9086 463.663 Q90.2975 463.663 88.4688 467.227 Q86.6632 470.769 86.6632 477.899 Q86.6632 485.005 88.4688 488.57 Q90.2975 492.111 93.9086 492.111 Q97.5428 492.111 99.3483 488.57 Q101.177 485.005 101.177 477.899 Q101.177 470.769 99.3483 467.227 Q97.5428 463.663 93.9086 463.663 M93.9086 459.959 Q99.7187 459.959 102.774 464.565 Q105.853 469.149 105.853 477.899 Q105.853 486.625 102.774 491.232 Q99.7187 495.815 93.9086 495.815 Q88.0984 495.815 85.0197 491.232 Q81.9642 486.625 81.9642 477.899 Q81.9642 469.149 85.0197 464.565 Q88.0984 459.959 93.9086 459.959 Z\" fill=\"#000000\" fill-rule=\"evenodd\" fill-opacity=\"1\" /><path clip-path=\"url(#clip250)\" d=\"M53.8856 268.843 L53.8856 264.584 Q55.6449 265.417 57.4504 265.857 Q59.256 266.296 60.9921 266.296 Q65.6217 266.296 68.0522 263.195 Q70.5059 260.07 70.8531 253.727 Q69.5105 255.718 67.4504 256.783 Q65.3902 257.847 62.8902 257.847 Q57.7051 257.847 54.6727 254.722 Q51.6634 251.574 51.6634 246.135 Q51.6634 240.81 54.8115 237.593 Q57.9597 234.375 63.1911 234.375 Q69.1865 234.375 72.3346 238.982 Q75.5059 243.565 75.5059 252.315 Q75.5059 260.486 71.617 265.371 Q67.7513 270.232 61.2004 270.232 Q59.4412 270.232 57.6356 269.884 Q55.8301 269.537 53.8856 268.843 M63.1911 254.19 Q66.3393 254.19 68.168 252.037 Q70.0198 249.885 70.0198 246.135 Q70.0198 242.408 68.168 240.255 Q66.3393 238.079 63.1911 238.079 Q60.043 238.079 58.1912 240.255 Q56.3625 242.408 56.3625 246.135 Q56.3625 249.885 58.1912 252.037 Q60.043 254.19 63.1911 254.19 Z\" fill=\"#000000\" fill-rule=\"evenodd\" fill-opacity=\"1\" /><path clip-path=\"url(#clip250)\" d=\"M93.9086 238.079 Q90.2975 238.079 88.4688 241.644 Q86.6632 245.185 86.6632 252.315 Q86.6632 259.421 88.4688 262.986 Q90.2975 266.528 93.9086 266.528 Q97.5428 266.528 99.3483 262.986 Q101.177 259.421 101.177 252.315 Q101.177 245.185 99.3483 241.644 Q97.5428 238.079 93.9086 238.079 M93.9086 234.375 Q99.7187 234.375 102.774 238.982 Q105.853 243.565 105.853 252.315 Q105.853 261.042 102.774 265.648 Q99.7187 270.232 93.9086 270.232 Q88.0984 270.232 85.0197 265.648 Q81.9642 261.042 81.9642 252.315 Q81.9642 243.565 85.0197 238.982 Q88.0984 234.375 93.9086 234.375 Z\" fill=\"#000000\" fill-rule=\"evenodd\" fill-opacity=\"1\" /><path clip-path=\"url(#clip250)\" d=\"M1171.92 12.096 L1223.08 12.096 L1223.08 18.9825 L1201.61 18.9825 L1201.61 72.576 L1193.39 72.576 L1193.39 18.9825 L1171.92 18.9825 L1171.92 12.096 Z\" fill=\"#000000\" fill-rule=\"evenodd\" fill-opacity=\"1\" /><path clip-path=\"url(#clip250)\" d=\"M1267.23 14.0809 L1267.23 22.0612 Q1262.58 19.8332 1258.44 18.7395 Q1254.31 17.6457 1250.46 17.6457 Q1243.78 17.6457 1240.13 20.2383 Q1236.53 22.8309 1236.53 27.611 Q1236.53 31.6214 1238.92 33.6873 Q1241.35 35.7128 1248.07 36.9686 L1253.02 37.9813 Q1262.17 39.7232 1266.51 44.1387 Q1270.88 48.5136 1270.88 55.8863 Q1270.88 64.6767 1264.97 69.2137 Q1259.09 73.7508 1247.71 73.7508 Q1243.42 73.7508 1238.55 72.7785 Q1233.73 71.8063 1228.55 69.9024 L1228.55 61.4765 Q1233.53 64.2716 1238.31 65.6895 Q1243.09 67.1073 1247.71 67.1073 Q1254.72 67.1073 1258.53 64.3527 Q1262.33 61.598 1262.33 56.4939 Q1262.33 52.0379 1259.58 49.5264 Q1256.86 47.0148 1250.63 45.759 L1245.64 44.7868 Q1236.49 42.9639 1232.4 39.075 Q1228.31 35.1862 1228.31 28.2591 Q1228.31 20.2383 1233.94 15.6203 Q1239.61 11.0023 1249.53 11.0023 Q1253.79 11.0023 1258.2 11.7719 Q1262.62 12.5416 1267.23 14.0809 Z\" fill=\"#000000\" fill-rule=\"evenodd\" fill-opacity=\"1\" /><path clip-path=\"url(#clip250)\" d=\"M1291.82 18.8205 L1291.82 41.5461 L1302.11 41.5461 Q1307.82 41.5461 1310.94 38.5889 Q1314.06 35.6318 1314.06 30.163 Q1314.06 24.7348 1310.94 21.7777 Q1307.82 18.8205 1302.11 18.8205 L1291.82 18.8205 M1283.64 12.096 L1302.11 12.096 Q1312.28 12.096 1317.47 16.714 Q1322.69 21.2916 1322.69 30.163 Q1322.69 39.1155 1317.47 43.6931 Q1312.28 48.2706 1302.11 48.2706 L1291.82 48.2706 L1291.82 72.576 L1283.64 72.576 L1283.64 12.096 Z\" fill=\"#000000\" fill-rule=\"evenodd\" fill-opacity=\"1\" /><circle clip-path=\"url(#clip252)\" cx=\"2290.18\" cy=\"1447.87\" r=\"14\" fill=\"#009af9\" fill-rule=\"evenodd\" fill-opacity=\"1\" stroke=\"#000000\" stroke-opacity=\"1\" stroke-width=\"3.2\"/>\n",
       "<circle clip-path=\"url(#clip252)\" cx=\"556.24\" cy=\"162.047\" r=\"14\" fill=\"#009af9\" fill-rule=\"evenodd\" fill-opacity=\"1\" stroke=\"#000000\" stroke-opacity=\"1\" stroke-width=\"3.2\"/>\n",
       "<circle clip-path=\"url(#clip252)\" cx=\"204.426\" cy=\"816.239\" r=\"14\" fill=\"#009af9\" fill-rule=\"evenodd\" fill-opacity=\"1\" stroke=\"#000000\" stroke-opacity=\"1\" stroke-width=\"3.2\"/>\n",
       "<circle clip-path=\"url(#clip252)\" cx=\"1335.26\" cy=\"1312.52\" r=\"14\" fill=\"#009af9\" fill-rule=\"evenodd\" fill-opacity=\"1\" stroke=\"#000000\" stroke-opacity=\"1\" stroke-width=\"3.2\"/>\n",
       "<circle clip-path=\"url(#clip252)\" cx=\"2089.15\" cy=\"703.447\" r=\"14\" fill=\"#009af9\" fill-rule=\"evenodd\" fill-opacity=\"1\" stroke=\"#000000\" stroke-opacity=\"1\" stroke-width=\"3.2\"/>\n",
       "<circle clip-path=\"url(#clip252)\" cx=\"556.24\" cy=\"1041.82\" r=\"14\" fill=\"#009af9\" fill-rule=\"evenodd\" fill-opacity=\"1\" stroke=\"#000000\" stroke-opacity=\"1\" stroke-width=\"3.2\"/>\n",
       "<circle clip-path=\"url(#clip252)\" cx=\"1687.07\" cy=\"229.722\" r=\"14\" fill=\"#009af9\" fill-rule=\"evenodd\" fill-opacity=\"1\" stroke=\"#000000\" stroke-opacity=\"1\" stroke-width=\"3.2\"/>\n",
       "<circle clip-path=\"url(#clip252)\" cx=\"2089.15\" cy=\"229.722\" r=\"14\" fill=\"#009af9\" fill-rule=\"evenodd\" fill-opacity=\"1\" stroke=\"#000000\" stroke-opacity=\"1\" stroke-width=\"3.2\"/>\n",
       "<path clip-path=\"url(#clip250)\" d=\"\n",
       "M1818.96 272.585 L2279.06 272.585 L2279.06 168.905 L1818.96 168.905  Z\n",
       "  \" fill=\"#ffffff\" fill-rule=\"evenodd\" fill-opacity=\"1\"/>\n",
       "<polyline clip-path=\"url(#clip250)\" style=\"stroke:#000000; stroke-linecap:butt; stroke-linejoin:round; stroke-width:4; stroke-opacity:1; fill:none\" points=\"\n",
       "  1818.96,272.585 2279.06,272.585 2279.06,168.905 1818.96,168.905 1818.96,272.585 \n",
       "  \"/>\n",
       "<circle clip-path=\"url(#clip250)\" cx=\"1917.22\" cy=\"220.745\" r=\"23\" fill=\"#009af9\" fill-rule=\"evenodd\" fill-opacity=\"1\" stroke=\"#000000\" stroke-opacity=\"1\" stroke-width=\"5.12\"/>\n",
       "<path clip-path=\"url(#clip250)\" d=\"M2043.35 206.127 L2043.35 211.057 Q2040.99 208.858 2038.31 207.77 Q2035.65 206.682 2032.64 206.682 Q2026.71 206.682 2023.56 210.316 Q2020.42 213.928 2020.42 220.779 Q2020.42 227.608 2023.56 231.242 Q2026.71 234.853 2032.64 234.853 Q2035.65 234.853 2038.31 233.765 Q2040.99 232.677 2043.35 230.478 L2043.35 235.363 Q2040.9 237.029 2038.15 237.863 Q2035.42 238.696 2032.36 238.696 Q2024.51 238.696 2020 233.904 Q2015.48 229.09 2015.48 220.779 Q2015.48 212.446 2020 207.654 Q2024.51 202.84 2032.36 202.84 Q2035.46 202.84 2038.19 203.673 Q2040.95 204.483 2043.35 206.127 Z\" fill=\"#000000\" fill-rule=\"evenodd\" fill-opacity=\"1\" /><path clip-path=\"url(#clip250)\" d=\"M2050.39 212.099 L2054.65 212.099 L2054.65 238.025 L2050.39 238.025 L2050.39 212.099 M2050.39 202.006 L2054.65 202.006 L2054.65 207.4 L2050.39 207.4 L2050.39 202.006 Z\" fill=\"#000000\" fill-rule=\"evenodd\" fill-opacity=\"1\" /><path clip-path=\"url(#clip250)\" d=\"M2063.12 227.793 L2063.12 212.099 L2067.38 212.099 L2067.38 227.631 Q2067.38 231.312 2068.82 233.164 Q2070.25 234.992 2073.12 234.992 Q2076.57 234.992 2078.56 232.793 Q2080.58 230.594 2080.58 226.798 L2080.58 212.099 L2084.84 212.099 L2084.84 238.025 L2080.58 238.025 L2080.58 234.043 Q2079.03 236.404 2076.97 237.562 Q2074.93 238.696 2072.22 238.696 Q2067.75 238.696 2065.44 235.918 Q2063.12 233.14 2063.12 227.793 M2073.84 211.474 L2073.84 211.474 Z\" fill=\"#000000\" fill-rule=\"evenodd\" fill-opacity=\"1\" /><path clip-path=\"url(#clip250)\" d=\"M2110.67 216.034 L2110.67 202.006 L2114.93 202.006 L2114.93 238.025 L2110.67 238.025 L2110.67 234.136 Q2109.33 236.451 2107.27 237.585 Q2105.23 238.696 2102.36 238.696 Q2097.66 238.696 2094.7 234.946 Q2091.76 231.196 2091.76 225.085 Q2091.76 218.974 2094.7 215.224 Q2097.66 211.474 2102.36 211.474 Q2105.23 211.474 2107.27 212.608 Q2109.33 213.719 2110.67 216.034 M2096.16 225.085 Q2096.16 229.784 2098.08 232.469 Q2100.02 235.131 2103.4 235.131 Q2106.78 235.131 2108.72 232.469 Q2110.67 229.784 2110.67 225.085 Q2110.67 220.386 2108.72 217.724 Q2106.78 215.039 2103.4 215.039 Q2100.02 215.039 2098.08 217.724 Q2096.16 220.386 2096.16 225.085 Z\" fill=\"#000000\" fill-rule=\"evenodd\" fill-opacity=\"1\" /><path clip-path=\"url(#clip250)\" d=\"M2135.48 224.992 Q2130.32 224.992 2128.33 226.173 Q2126.34 227.353 2126.34 230.201 Q2126.34 232.469 2127.82 233.812 Q2129.33 235.131 2131.9 235.131 Q2135.44 235.131 2137.57 232.631 Q2139.72 230.108 2139.72 225.941 L2139.72 224.992 L2135.48 224.992 M2143.98 223.233 L2143.98 238.025 L2139.72 238.025 L2139.72 234.089 Q2138.26 236.451 2136.09 237.585 Q2133.91 238.696 2130.76 238.696 Q2126.78 238.696 2124.42 236.474 Q2122.08 234.228 2122.08 230.478 Q2122.08 226.103 2125 223.881 Q2127.94 221.659 2133.75 221.659 L2139.72 221.659 L2139.72 221.242 Q2139.72 218.303 2137.78 216.705 Q2135.85 215.085 2132.36 215.085 Q2130.14 215.085 2128.03 215.617 Q2125.92 216.15 2123.98 217.215 L2123.98 213.279 Q2126.32 212.377 2128.52 211.937 Q2130.72 211.474 2132.8 211.474 Q2138.42 211.474 2141.2 214.391 Q2143.98 217.307 2143.98 223.233 Z\" fill=\"#000000\" fill-rule=\"evenodd\" fill-opacity=\"1\" /><path clip-path=\"url(#clip250)\" d=\"M2169.81 216.034 L2169.81 202.006 L2174.07 202.006 L2174.07 238.025 L2169.81 238.025 L2169.81 234.136 Q2168.47 236.451 2166.41 237.585 Q2164.37 238.696 2161.5 238.696 Q2156.8 238.696 2153.84 234.946 Q2150.9 231.196 2150.9 225.085 Q2150.9 218.974 2153.84 215.224 Q2156.8 211.474 2161.5 211.474 Q2164.37 211.474 2166.41 212.608 Q2168.47 213.719 2169.81 216.034 M2155.3 225.085 Q2155.3 229.784 2157.22 232.469 Q2159.16 235.131 2162.54 235.131 Q2165.92 235.131 2167.87 232.469 Q2169.81 229.784 2169.81 225.085 Q2169.81 220.386 2167.87 217.724 Q2165.92 215.039 2162.54 215.039 Q2159.16 215.039 2157.22 217.724 Q2155.3 220.386 2155.3 225.085 Z\" fill=\"#000000\" fill-rule=\"evenodd\" fill-opacity=\"1\" /><path clip-path=\"url(#clip250)\" d=\"M2205.02 223.997 L2205.02 226.08 L2185.44 226.08 Q2185.72 230.478 2188.08 232.793 Q2190.46 235.085 2194.7 235.085 Q2197.15 235.085 2199.44 234.483 Q2201.76 233.881 2204.03 232.677 L2204.03 236.705 Q2201.73 237.677 2199.33 238.187 Q2196.92 238.696 2194.44 238.696 Q2188.24 238.696 2184.6 235.085 Q2180.99 231.474 2180.99 225.316 Q2180.99 218.951 2184.42 215.224 Q2187.87 211.474 2193.7 211.474 Q2198.93 211.474 2201.97 214.853 Q2205.02 218.21 2205.02 223.997 M2200.76 222.747 Q2200.72 219.252 2198.79 217.168 Q2196.9 215.085 2193.75 215.085 Q2190.18 215.085 2188.03 217.099 Q2185.9 219.113 2185.58 222.77 L2200.76 222.747 Z\" fill=\"#000000\" fill-rule=\"evenodd\" fill-opacity=\"1\" /><path clip-path=\"url(#clip250)\" d=\"M2228.54 212.863 L2228.54 216.891 Q2226.73 215.965 2224.79 215.502 Q2222.84 215.039 2220.76 215.039 Q2217.59 215.039 2215.99 216.011 Q2214.42 216.983 2214.42 218.928 Q2214.42 220.409 2215.55 221.265 Q2216.69 222.099 2220.11 222.863 L2221.57 223.187 Q2226.11 224.159 2228.01 225.941 Q2229.93 227.701 2229.93 230.872 Q2229.93 234.483 2227.06 236.589 Q2224.21 238.696 2219.21 238.696 Q2217.13 238.696 2214.86 238.279 Q2212.61 237.886 2210.11 237.076 L2210.11 232.677 Q2212.47 233.904 2214.77 234.529 Q2217.06 235.131 2219.3 235.131 Q2222.31 235.131 2223.93 234.113 Q2225.55 233.071 2225.55 231.196 Q2225.55 229.46 2224.37 228.534 Q2223.22 227.608 2219.26 226.752 L2217.78 226.404 Q2213.82 225.571 2212.06 223.858 Q2210.3 222.122 2210.3 219.113 Q2210.3 215.455 2212.89 213.465 Q2215.48 211.474 2220.25 211.474 Q2222.61 211.474 2224.7 211.821 Q2226.78 212.168 2228.54 212.863 Z\" fill=\"#000000\" fill-rule=\"evenodd\" fill-opacity=\"1\" /></svg>\n"
      ]
     },
     "execution_count": 16,
     "metadata": {},
     "output_type": "execute_result"
    }
   ],
   "source": [
    "using Plots\n",
    "x = coordinates[:,1]\n",
    "y = coordinates[:,2]\n",
    "scatter(x,y, label=\"Ciudades\", title=\"TSP\")"
   ]
  },
  {
   "attachments": {
    "image.png": {
     "image/png": "[encoded data removed]"
    }
   },
   "cell_type": "markdown",
   "id": "6b84bfe6",
   "metadata": {
    "slideshow": {
     "slide_type": "subslide"
    }
   },
   "source": [
    "![image.png](attachment:image.png)"
   ]
  }
 ],
 "metadata": {
  "celltoolbar": "Slideshow",
  "kernelspec": {
   "display_name": "Julia 1.6.0",
   "language": "julia",
   "name": "julia-1.6"
  },
  "language_info": {
   "file_extension": ".jl",
   "mimetype": "application/julia",
   "name": "julia",
   "version": "1.6.0"
  }
 },
 "nbformat": 4,
 "nbformat_minor": 5
}
